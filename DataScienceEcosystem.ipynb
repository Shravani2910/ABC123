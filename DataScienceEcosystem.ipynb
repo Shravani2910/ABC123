{
  "cells": [
    {
      "attachments": {},
      "cell_type": "markdown",
      "metadata": {},
      "source": [
        "Data Science Tools and Ecosystem"
      ]
    },
    {
      "cell_type": "markdown",
      "metadata": {},
      "source": [
        "Introduction-"
      ]
    },
    {
      "attachments": {},
      "cell_type": "markdown",
      "metadata": {},
      "source": [
        "Data science deals with vast volume of data using modern tools and Techniques which are useful for business decisions\n",
        "Data science tools are used raw and complicated data and convert them into useful information by analyzing and visualizing it \n",
        "by different tools."
      ]
    },
    {
      "attachments": {},
      "cell_type": "markdown",
      "metadata": {},
      "source": [
        "some of languages Data scientists used:"
      ]
    },
    {
      "attachments": {},
      "cell_type": "markdown",
      "metadata": {},
      "source": [
        "\n",
        "1. Python\n",
        "2. R\n",
        "3. Scala\n",
        "4. Julia\n",
        "5. Scala\n",
        "6. SQL"
      ]
    },
    {
      "cell_type": "markdown",
      "metadata": {},
      "source": []
    },
    {
      "attachments": {},
      "cell_type": "markdown",
      "metadata": {},
      "source": [
        "some of the commonly used libraries used by data scientists include:-"
      ]
    },
    {
      "attachments": {},
      "cell_type": "markdown",
      "metadata": {},
      "source": [
        "\n",
        "1.Python libraries (Numpy,Pandas)\n",
        "2.Scientific computing\n",
        "3.visualization\n",
        "4. Machine learning or Deep learning libraries"
      ]
    },
    {
      "attachments": {},
      "cell_type": "markdown",
      "metadata": {},
      "source": [
        "Data Science Tools:"
      ]
    },
    {
      "attachments": {},
      "cell_type": "markdown",
      "metadata": {},
      "source": [
        "\n",
        "1.Mysql\n",
        "2.Apache\n",
        "3.Hadoop\n",
        "4.kibana"
      ]
    },
    {
      "attachments": {},
      "cell_type": "markdown",
      "metadata": {},
      "source": [
        "Below are a few examples of evaluating arithmetic expressions in Python-"
      ]
    },
    {
      "cell_type": "code",
      "execution_count": null,
      "metadata": {},
      "outputs": [],
      "source": [
        "#This a simple arithmetic expression to mutiply then add integers-\n",
        "\n",
        "(3*4)+5\n"
      ]
    },
    {
      "attachments": {},
      "cell_type": "markdown",
      "metadata": {},
      "source": [
        "This will convert 200 minutes to hours by diving by 60-"
      ]
    },
    {
      "cell_type": "code",
      "execution_count": null,
      "metadata": {},
      "outputs": [],
      "source": [
        "# Python Program to Convert Minute to Hour\n",
        "min = int(input(\"Enter Minutes :--> \"))\n",
        "print(\"Hour : Minute :--> \", int(min/60), \" : \", min % 60)"
      ]
    },
    {
      "cell_type": "markdown",
      "metadata": {},
      "source": [
        "objectives\n",
        "\n",
        "Different data science tools used by data scientist\n",
        "different data science languages\n",
        "data science ecosystem\n",
        "different arithmetic operations"
      ]
    },
    {
      "cell_type": "code",
      "execution_count": null,
      "metadata": {},
      "outputs": [],
      "source": [
        "Author:\n",
        "Shravani Santosh Jagtap."
      ]
    }
  ],
  "metadata": {
    "kernelspec": {
      "display_name": "Python 3",
      "language": "python",
      "name": "python3"
    },
    "language_info": {
      "name": "python",
      "version": "3.9.7"
    }
  },
  "nbformat": 4,
  "nbformat_minor": 4
}
